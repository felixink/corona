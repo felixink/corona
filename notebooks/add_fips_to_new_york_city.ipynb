{
 "cells": [
  {
   "cell_type": "code",
   "execution_count": 1,
   "metadata": {},
   "outputs": [],
   "source": [
    "import pandas as pd\n",
    "from pathlib import Path\n",
    "from datetime import datetime"
   ]
  },
  {
   "cell_type": "code",
   "execution_count": 2,
   "metadata": {},
   "outputs": [],
   "source": [
    "# data locs\n",
    "data_folder = Path(Path().absolute().parent, 'data')\n",
    "us_counties_covid_csv = Path(data_folder, 'us-counties.csv')\n",
    "outfile = Path(data_folder, 'us-counties-update.csv')"
   ]
  },
  {
   "cell_type": "code",
   "execution_count": 3,
   "metadata": {},
   "outputs": [],
   "source": [
    "date_parser = lambda x: datetime.strptime(x, '%Y-%m-%d')\n",
    "us_counties_covid = pd.read_csv(us_counties_covid_csv, parse_dates=['date'], date_parser=date_parser, dtype={'fips': str})"
   ]
  },
  {
   "cell_type": "code",
   "execution_count": 4,
   "metadata": {},
   "outputs": [],
   "source": [
    "filt = us_counties_covid['county'] == 'New York City'\n",
    "us_counties_covid.loc[filt, 'fips'] = '36666'\n",
    "us_counties_covid.to_csv(outfile, sep=',', encoding='utf-8')"
   ]
  },
  {
   "cell_type": "code",
   "execution_count": 5,
   "metadata": {},
   "outputs": [],
   "source": []
  },
  {
   "cell_type": "code",
   "execution_count": null,
   "metadata": {},
   "outputs": [],
   "source": []
  }
 ],
 "metadata": {
  "kernelspec": {
   "display_name": "Python 3",
   "language": "python",
   "name": "python3"
  },
  "language_info": {
   "codemirror_mode": {
    "name": "ipython",
    "version": 3
   },
   "file_extension": ".py",
   "mimetype": "text/x-python",
   "name": "python",
   "nbconvert_exporter": "python",
   "pygments_lexer": "ipython3",
   "version": "3.8.0"
  }
 },
 "nbformat": 4,
 "nbformat_minor": 4
}
